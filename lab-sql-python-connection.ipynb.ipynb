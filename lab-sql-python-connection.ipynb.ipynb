{
 "cells": [
  {
   "cell_type": "code",
   "execution_count": 1,
   "id": "0ea672f1-5563-4643-a165-668714f86386",
   "metadata": {},
   "outputs": [
    {
     "name": "stdout",
     "output_type": "stream",
     "text": [
      "❌ Connection failed: (mysql.connector.errors.DatabaseError) 2005 (HY000): Unknown MySQL server host '26@localhost' (11003)\n",
      "(Background on this error at: https://sqlalche.me/e/20/4xp6)\n"
     ]
    }
   ],
   "source": [
    "from sqlalchemy import create_engine\n",
    "\n",
    "# Fill in your actual MySQL username and password below\n",
    "db_user = 'root'              # or your MySQL username\n",
    "db_password = 'Bookbook@26'  # 🔒 Enter your MySQL password\n",
    "db_host = 'localhost'\n",
    "db_port = '3306'\n",
    "db_name = 'sakila'\n",
    "\n",
    "# Create engine\n",
    "engine = create_engine(f'mysql+mysqlconnector://{db_user}:{db_password}@{db_host}:{db_port}/{db_name}')\n",
    "\n",
    "# Test connection\n",
    "try:\n",
    "    connection = engine.connect()\n",
    "    print(\"✅ Connected successfully to the Sakila database!\")\n",
    "    connection.close()\n",
    "except Exception as e:\n",
    "    print(\"❌ Connection failed:\", e)\n"
   ]
  },
  {
   "cell_type": "code",
   "execution_count": 2,
   "id": "4dd9dffd-4956-45e4-873f-47d05cd0200d",
   "metadata": {},
   "outputs": [
    {
     "name": "stdout",
     "output_type": "stream",
     "text": [
      "✅ Connected successfully to the Sakila database!\n"
     ]
    }
   ],
   "source": [
    "from sqlalchemy import create_engine\n",
    "\n",
    "# Use URL-encoded password (replace '@' with '%40')\n",
    "db_user = 'root'\n",
    "db_password = 'Bookbook%4026'   # '@' becomes '%40'\n",
    "db_host = 'localhost'\n",
    "db_port = '3306'\n",
    "db_name = 'sakila'\n",
    "\n",
    "# Create engine\n",
    "engine = create_engine(f'mysql+mysqlconnector://{db_user}:{db_password}@{db_host}:{db_port}/{db_name}')\n",
    "\n",
    "# Test connection\n",
    "try:\n",
    "    connection = engine.connect()\n",
    "    print(\"✅ Connected successfully to the Sakila database!\")\n",
    "    connection.close()\n",
    "except Exception as e:\n",
    "    print(\"❌ Connection failed:\", e)\n"
   ]
  },
  {
   "cell_type": "code",
   "execution_count": 3,
   "id": "2bf73622-1f9a-4839-b29c-52550244cd68",
   "metadata": {},
   "outputs": [],
   "source": [
    "import pandas as pd\n",
    "\n",
    "def rentals_month(engine, month, year):\n",
    "    query = f\"\"\"\n",
    "    SELECT *\n",
    "    FROM rental\n",
    "    WHERE MONTH(rental_date) = {month} AND YEAR(rental_date) = {year};\n",
    "    \"\"\"\n",
    "    return pd.read_sql(query, engine)\n"
   ]
  },
  {
   "cell_type": "code",
   "execution_count": 4,
   "id": "8ac25f1f-2c93-4b39-b4cd-b7d77722afbc",
   "metadata": {},
   "outputs": [
    {
     "data": {
      "text/html": [
       "<div>\n",
       "<style scoped>\n",
       "    .dataframe tbody tr th:only-of-type {\n",
       "        vertical-align: middle;\n",
       "    }\n",
       "\n",
       "    .dataframe tbody tr th {\n",
       "        vertical-align: top;\n",
       "    }\n",
       "\n",
       "    .dataframe thead th {\n",
       "        text-align: right;\n",
       "    }\n",
       "</style>\n",
       "<table border=\"1\" class=\"dataframe\">\n",
       "  <thead>\n",
       "    <tr style=\"text-align: right;\">\n",
       "      <th></th>\n",
       "      <th>rental_id</th>\n",
       "      <th>rental_date</th>\n",
       "      <th>inventory_id</th>\n",
       "      <th>customer_id</th>\n",
       "      <th>return_date</th>\n",
       "      <th>staff_id</th>\n",
       "      <th>last_update</th>\n",
       "    </tr>\n",
       "  </thead>\n",
       "  <tbody>\n",
       "    <tr>\n",
       "      <th>0</th>\n",
       "      <td>1</td>\n",
       "      <td>2005-05-24 22:53:30</td>\n",
       "      <td>367</td>\n",
       "      <td>130</td>\n",
       "      <td>2005-05-26 22:04:30</td>\n",
       "      <td>1</td>\n",
       "      <td>2006-02-15 21:30:53</td>\n",
       "    </tr>\n",
       "    <tr>\n",
       "      <th>1</th>\n",
       "      <td>2</td>\n",
       "      <td>2005-05-24 22:54:33</td>\n",
       "      <td>1525</td>\n",
       "      <td>459</td>\n",
       "      <td>2005-05-28 19:40:33</td>\n",
       "      <td>1</td>\n",
       "      <td>2006-02-15 21:30:53</td>\n",
       "    </tr>\n",
       "    <tr>\n",
       "      <th>2</th>\n",
       "      <td>3</td>\n",
       "      <td>2005-05-24 23:03:39</td>\n",
       "      <td>1711</td>\n",
       "      <td>408</td>\n",
       "      <td>2005-06-01 22:12:39</td>\n",
       "      <td>1</td>\n",
       "      <td>2006-02-15 21:30:53</td>\n",
       "    </tr>\n",
       "    <tr>\n",
       "      <th>3</th>\n",
       "      <td>4</td>\n",
       "      <td>2005-05-24 23:04:41</td>\n",
       "      <td>2452</td>\n",
       "      <td>333</td>\n",
       "      <td>2005-06-03 01:43:41</td>\n",
       "      <td>2</td>\n",
       "      <td>2006-02-15 21:30:53</td>\n",
       "    </tr>\n",
       "    <tr>\n",
       "      <th>4</th>\n",
       "      <td>5</td>\n",
       "      <td>2005-05-24 23:05:21</td>\n",
       "      <td>2079</td>\n",
       "      <td>222</td>\n",
       "      <td>2005-06-02 04:33:21</td>\n",
       "      <td>1</td>\n",
       "      <td>2006-02-15 21:30:53</td>\n",
       "    </tr>\n",
       "  </tbody>\n",
       "</table>\n",
       "</div>"
      ],
      "text/plain": [
       "   rental_id         rental_date  inventory_id  customer_id  \\\n",
       "0          1 2005-05-24 22:53:30           367          130   \n",
       "1          2 2005-05-24 22:54:33          1525          459   \n",
       "2          3 2005-05-24 23:03:39          1711          408   \n",
       "3          4 2005-05-24 23:04:41          2452          333   \n",
       "4          5 2005-05-24 23:05:21          2079          222   \n",
       "\n",
       "          return_date  staff_id         last_update  \n",
       "0 2005-05-26 22:04:30         1 2006-02-15 21:30:53  \n",
       "1 2005-05-28 19:40:33         1 2006-02-15 21:30:53  \n",
       "2 2005-06-01 22:12:39         1 2006-02-15 21:30:53  \n",
       "3 2005-06-03 01:43:41         2 2006-02-15 21:30:53  \n",
       "4 2005-06-02 04:33:21         1 2006-02-15 21:30:53  "
      ]
     },
     "execution_count": 4,
     "metadata": {},
     "output_type": "execute_result"
    }
   ],
   "source": [
    "may_data = rentals_month(engine, 5, 2005)\n",
    "may_data.head()\n"
   ]
  },
  {
   "cell_type": "code",
   "execution_count": 5,
   "id": "2b3d27ab-5a91-4b37-94c8-a92da73b1b4c",
   "metadata": {},
   "outputs": [],
   "source": [
    "def rental_count_month(df, month, year):\n",
    "    rental_count = df.groupby(\"customer_id\").size().reset_index(name=f\"rentals_{month:02d}_{year}\")\n",
    "    return rental_count\n"
   ]
  },
  {
   "cell_type": "code",
   "execution_count": 6,
   "id": "486c1ef6-f47d-44ed-a0a8-1160fad30f6d",
   "metadata": {},
   "outputs": [
    {
     "data": {
      "text/html": [
       "<div>\n",
       "<style scoped>\n",
       "    .dataframe tbody tr th:only-of-type {\n",
       "        vertical-align: middle;\n",
       "    }\n",
       "\n",
       "    .dataframe tbody tr th {\n",
       "        vertical-align: top;\n",
       "    }\n",
       "\n",
       "    .dataframe thead th {\n",
       "        text-align: right;\n",
       "    }\n",
       "</style>\n",
       "<table border=\"1\" class=\"dataframe\">\n",
       "  <thead>\n",
       "    <tr style=\"text-align: right;\">\n",
       "      <th></th>\n",
       "      <th>customer_id</th>\n",
       "      <th>rentals_05_2005</th>\n",
       "    </tr>\n",
       "  </thead>\n",
       "  <tbody>\n",
       "    <tr>\n",
       "      <th>0</th>\n",
       "      <td>1</td>\n",
       "      <td>2</td>\n",
       "    </tr>\n",
       "    <tr>\n",
       "      <th>1</th>\n",
       "      <td>2</td>\n",
       "      <td>1</td>\n",
       "    </tr>\n",
       "    <tr>\n",
       "      <th>2</th>\n",
       "      <td>3</td>\n",
       "      <td>2</td>\n",
       "    </tr>\n",
       "    <tr>\n",
       "      <th>3</th>\n",
       "      <td>5</td>\n",
       "      <td>3</td>\n",
       "    </tr>\n",
       "    <tr>\n",
       "      <th>4</th>\n",
       "      <td>6</td>\n",
       "      <td>3</td>\n",
       "    </tr>\n",
       "  </tbody>\n",
       "</table>\n",
       "</div>"
      ],
      "text/plain": [
       "   customer_id  rentals_05_2005\n",
       "0            1                2\n",
       "1            2                1\n",
       "2            3                2\n",
       "3            5                3\n",
       "4            6                3"
      ]
     },
     "execution_count": 6,
     "metadata": {},
     "output_type": "execute_result"
    }
   ],
   "source": [
    "may_count = rental_count_month(may_data, 5, 2005)\n",
    "may_count.head()\n"
   ]
  },
  {
   "cell_type": "code",
   "execution_count": 7,
   "id": "9b2463e6-7ede-4133-99a1-437e1938a876",
   "metadata": {},
   "outputs": [],
   "source": [
    "def compare_rentals(df1, df2):\n",
    "    result = pd.merge(df1, df2, on='customer_id', how='outer').fillna(0)\n",
    "    cols = result.columns\n",
    "    result[\"difference\"] = result[cols[2]] - result[cols[1]]\n",
    "    return result\n"
   ]
  },
  {
   "cell_type": "code",
   "execution_count": 8,
   "id": "816ab157-b1e5-426e-8036-5ec96b7eeb5f",
   "metadata": {},
   "outputs": [
    {
     "data": {
      "text/html": [
       "<div>\n",
       "<style scoped>\n",
       "    .dataframe tbody tr th:only-of-type {\n",
       "        vertical-align: middle;\n",
       "    }\n",
       "\n",
       "    .dataframe tbody tr th {\n",
       "        vertical-align: top;\n",
       "    }\n",
       "\n",
       "    .dataframe thead th {\n",
       "        text-align: right;\n",
       "    }\n",
       "</style>\n",
       "<table border=\"1\" class=\"dataframe\">\n",
       "  <thead>\n",
       "    <tr style=\"text-align: right;\">\n",
       "      <th></th>\n",
       "      <th>customer_id</th>\n",
       "      <th>rentals_05_2005</th>\n",
       "      <th>rentals_06_2005</th>\n",
       "      <th>difference</th>\n",
       "    </tr>\n",
       "  </thead>\n",
       "  <tbody>\n",
       "    <tr>\n",
       "      <th>0</th>\n",
       "      <td>1</td>\n",
       "      <td>2.0</td>\n",
       "      <td>7.0</td>\n",
       "      <td>5.0</td>\n",
       "    </tr>\n",
       "    <tr>\n",
       "      <th>1</th>\n",
       "      <td>2</td>\n",
       "      <td>1.0</td>\n",
       "      <td>1.0</td>\n",
       "      <td>0.0</td>\n",
       "    </tr>\n",
       "    <tr>\n",
       "      <th>2</th>\n",
       "      <td>3</td>\n",
       "      <td>2.0</td>\n",
       "      <td>4.0</td>\n",
       "      <td>2.0</td>\n",
       "    </tr>\n",
       "    <tr>\n",
       "      <th>3</th>\n",
       "      <td>4</td>\n",
       "      <td>0.0</td>\n",
       "      <td>6.0</td>\n",
       "      <td>6.0</td>\n",
       "    </tr>\n",
       "    <tr>\n",
       "      <th>4</th>\n",
       "      <td>5</td>\n",
       "      <td>3.0</td>\n",
       "      <td>5.0</td>\n",
       "      <td>2.0</td>\n",
       "    </tr>\n",
       "  </tbody>\n",
       "</table>\n",
       "</div>"
      ],
      "text/plain": [
       "   customer_id  rentals_05_2005  rentals_06_2005  difference\n",
       "0            1              2.0              7.0         5.0\n",
       "1            2              1.0              1.0         0.0\n",
       "2            3              2.0              4.0         2.0\n",
       "3            4              0.0              6.0         6.0\n",
       "4            5              3.0              5.0         2.0"
      ]
     },
     "execution_count": 8,
     "metadata": {},
     "output_type": "execute_result"
    }
   ],
   "source": [
    "june_data = rentals_month(engine, 6, 2005)\n",
    "june_count = rental_count_month(june_data, 6, 2005)\n",
    "\n",
    "comparison = compare_rentals(may_count, june_count)\n",
    "comparison.head()\n"
   ]
  },
  {
   "cell_type": "code",
   "execution_count": null,
   "id": "5866c765-8f89-45b3-9d4e-55d10b5b9137",
   "metadata": {},
   "outputs": [],
   "source": []
  }
 ],
 "metadata": {
  "kernelspec": {
   "display_name": "Python 3 (ipykernel)",
   "language": "python",
   "name": "python3"
  },
  "language_info": {
   "codemirror_mode": {
    "name": "ipython",
    "version": 3
   },
   "file_extension": ".py",
   "mimetype": "text/x-python",
   "name": "python",
   "nbconvert_exporter": "python",
   "pygments_lexer": "ipython3",
   "version": "3.13.2"
  }
 },
 "nbformat": 4,
 "nbformat_minor": 5
}
